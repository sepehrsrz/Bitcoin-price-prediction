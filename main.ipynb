{
 "cells": [
  {
   "cell_type": "markdown",
   "metadata": {
    "collapsed": true,
    "pycharm": {
     "is_executing": false,
     "name": "#%% md\n"
    }
   },
   "source": [
    "# Bitcoin price prediction using LSTM\n"
   ]
  },
  {
   "cell_type": "code",
   "execution_count": null,
   "metadata": {
    "pycharm": {
     "name": "#%%\n"
    }
   },
   "outputs": [],
   "source": [
    "import numpy as np \n",
    "import pandas as pd \n",
    "\n",
    "import matplotlib.pyplot as plt\n",
    "import plotly.graph_objects as go\n",
    "\n",
    "from sklearn.preprocessing import MinMaxScaler\n",
    "from sklearn.metrics import mean_absolute_error\n",
    "\n",
    "from keras.models import Sequential\n",
    "from keras.layers import Dense, LSTM, Dropout,GRU\n",
    "from tensorflow.keras.optimizers import Adam\n"
   ]
  },
  {
   "cell_type": "markdown",
   "metadata": {},
   "source": [
    "## Read Data"
   ]
  },
  {
   "cell_type": "code",
   "execution_count": null,
   "metadata": {
    "pycharm": {
     "name": "#%%\n"
    }
   },
   "outputs": [],
   "source": [
    "df = pd.read_csv(\"data/btc.csv\")\n",
    "\n",
    "df = df.set_index(pd.DatetimeIndex(df.iloc[:,0].values)).iloc[:,1:]\n",
    "\n",
    "df"
   ]
  },
  {
   "cell_type": "code",
   "execution_count": null,
   "metadata": {
    "pycharm": {
     "name": "#%%\n"
    }
   },
   "outputs": [],
   "source": [
    "fig = go.Figure(\n",
    "data = [\n",
    "    go.Candlestick(\n",
    "    x = df.index,\n",
    "        low = df['low'],\n",
    "        high = df['high'],\n",
    "        close = df['close'],\n",
    "        open = df['open'],\n",
    "        increasing_line_color = \"green\",\n",
    "        decreasing_line_color = \"red\")])\n",
    "\n",
    "fig.update_layout(\n",
    "    yaxis_title = \"Price\",\n",
    "    xaxis_title = \"Date\"\n",
    ")\n",
    "\n",
    "fig.show()"
   ]
  },
  {
   "cell_type": "markdown",
   "metadata": {},
   "source": [
    "## Data Preparation"
   ]
  },
  {
   "cell_type": "markdown",
   "metadata": {
    "pycharm": {
     "name": "#%% md\n"
    }
   },
   "source": [
    "### Normalization"
   ]
  },
  {
   "cell_type": "code",
   "execution_count": null,
   "metadata": {
    "pycharm": {
     "name": "#%%\n"
    }
   },
   "outputs": [],
   "source": [
    "data = df[['close','volume','open','low','high']]\n",
    "num_features = data.shape[1]"
   ]
  },
  {
   "cell_type": "code",
   "execution_count": null,
   "metadata": {
    "pycharm": {
     "name": "#%%\n"
    }
   },
   "outputs": [],
   "source": [
    "scaler = MinMaxScaler()\n",
    "norm_data = scaler.fit_transform(data.values)\n",
    "print(\"Real: {}\\nNormalized: {}\".format(data.values[0],norm_data[0]))"
   ]
  },
  {
   "cell_type": "markdown",
   "metadata": {},
   "source": [
    "### Data split"
   ]
  },
  {
   "cell_type": "code",
   "execution_count": null,
   "metadata": {},
   "outputs": [],
   "source": [
    "past_history = 10\n",
    "future_target = 0\n",
    "split_rate = int(len(norm_data) * 0.8) # 80 percent"
   ]
  },
  {
   "cell_type": "code",
   "execution_count": null,
   "metadata": {},
   "outputs": [],
   "source": [
    "input_data = []\n",
    "output_data = []\n",
    "\n",
    "for i in range(past_history, len(norm_data)+1): \n",
    "    indices = range(i-past_history, i)\n",
    "\n",
    "    input_data.append(np.reshape(norm_data[indices], (past_history, num_features)))\n",
    "    try:\n",
    "        output_data.append(norm_data[i+future_target][0])\n",
    "    except:\n",
    "        output_data.append(np.nan)\n",
    "\n",
    "input_data,output_data = np.array(input_data), np.array(output_data)"
   ]
  },
  {
   "cell_type": "code",
   "execution_count": null,
   "metadata": {},
   "outputs": [],
   "source": [
    "x_train, x_test = input_data[:split_rate], input_data[split_rate:]\n",
    "y_train, y_test = output_data[:split_rate], output_data[split_rate:]"
   ]
  },
  {
   "cell_type": "markdown",
   "metadata": {
    "pycharm": {
     "name": "#%% md\n"
    }
   },
   "source": [
    "## Build the model"
   ]
  },
  {
   "cell_type": "code",
   "execution_count": null,
   "metadata": {
    "pycharm": {
     "name": "#%% \n"
    }
   },
   "outputs": [],
   "source": [
    "num_units = 100\n",
    "activation_function = 'relu'\n",
    "loss_function = 'mean_absolute_error'\n",
    "batch_size = 32\n",
    "num_epochs = 100\n",
    "\n",
    "model = Sequential()\n",
    "\n",
    "model.add(LSTM(units = num_units,return_sequences=True,activation=activation_function, input_shape=(None, num_features)))\n",
    "model.add(Dropout(0.1))\n",
    "\n",
    "model.add(LSTM(units=num_units,activation=activation_function))\n",
    "model.add(Dropout(0.1))\n",
    "\n",
    "model.add(Dense(units = 1))\n",
    "\n",
    "model.compile(optimizer=Adam(learning_rate=0.0001), loss=loss_function)"
   ]
  },
  {
   "cell_type": "code",
   "execution_count": null,
   "metadata": {
    "pycharm": {
     "name": "#%%\n"
    }
   },
   "outputs": [],
   "source": [
    "model.summary()"
   ]
  },
  {
   "cell_type": "markdown",
   "metadata": {},
   "source": [
    "## Train the model"
   ]
  },
  {
   "cell_type": "code",
   "execution_count": null,
   "metadata": {
    "pycharm": {
     "name": "#%% \n"
    }
   },
   "outputs": [],
   "source": [
    "history = model.fit(\n",
    "    x_train,\n",
    "    y_train,\n",
    "    validation_split=0.2,\n",
    "    batch_size=batch_size,\n",
    "    epochs=num_epochs,\n",
    "    shuffle=False\n",
    ")"
   ]
  },
  {
   "cell_type": "code",
   "execution_count": null,
   "metadata": {
    "pycharm": {
     "name": "#%%\n"
    }
   },
   "outputs": [],
   "source": [
    "loss = history.history['loss']\n",
    "val_loss = history.history['val_loss']\n",
    "\n",
    "plt.figure()\n",
    "\n",
    "plt.plot(range(len(loss)), loss, 'blue', label='Training loss')\n",
    "plt.plot(range(len(loss)), val_loss, 'red', label='Validation loss')\n",
    "plt.title(\"Training and Validation Loss\")\n",
    "plt.xlabel(\"Epoch\")\n",
    "plt.legend()\n",
    "\n",
    "plt.show()"
   ]
  },
  {
   "cell_type": "code",
   "execution_count": null,
   "metadata": {},
   "outputs": [],
   "source": [
    "original_train = y_train - scaler.min_[0]\n",
    "original_train /= scaler.scale_[0]\n",
    "original_train = pd.DataFrame((original_train))\n",
    "\n",
    "predictions_train = model.predict(x_train) - scaler.min_[0]\n",
    "predictions_train /= scaler.scale_[0]\n",
    "predictions_train = pd.DataFrame((predictions_train))\n",
    "\n",
    "plt.figure()\n",
    "\n",
    "plt.plot(original_train, 'blue', label='Train Data')\n",
    "plt.plot(predictions_train, 'red', label='Prediction')\n",
    "plt.title(\"Bitcoin price\")\n",
    "plt.xlabel(\"Days\")\n",
    "plt.ylabel(\"Price (USD)\")\n",
    "plt.legend()\n",
    "plt.show()\n",
    "print(\"Train error:\")\n",
    "print(mean_absolute_error(y_train, model.predict(x_train)))"
   ]
  },
  {
   "cell_type": "markdown",
   "metadata": {
    "pycharm": {
     "name": "#%% md\n"
    }
   },
   "source": [
    "## Prediction"
   ]
  },
  {
   "cell_type": "code",
   "execution_count": null,
   "metadata": {
    "pycharm": {
     "name": "#%%\n"
    }
   },
   "outputs": [],
   "source": [
    "original_test = y_test - scaler.min_[0]\n",
    "original_test /= scaler.scale_[0]\n",
    "original_test = pd.DataFrame((original_test))\n",
    "\n",
    "predictions_test = model.predict(x_test) - scaler.min_[0]\n",
    "predictions_test /= scaler.scale_[0]\n",
    "predictions_test = pd.DataFrame((predictions_test))\n",
    "\n",
    "plt.figure()\n",
    "\n",
    "plt.plot(original_test[:-1], 'blue', label='Test Data')\n",
    "plt.plot(predictions_test[:-1], 'red', label='Prediction')\n",
    "plt.title(\"Bitcoin price\")\n",
    "plt.xlabel(\"Days\")\n",
    "plt.ylabel(\"Price (USD)\")\n",
    "plt.legend()\n",
    "plt.show()\n",
    "print(\"Test error:\")\n",
    "print(mean_absolute_error(y_test[:-(future_target+1)], model.predict(x_test)[:-(future_target+1)]))"
   ]
  },
  {
   "cell_type": "code",
   "execution_count": null,
   "metadata": {},
   "outputs": [],
   "source": [
    "prediction = pd.DataFrame({\"actual price\":original_test[0],\"predicted\":predictions_test[0]})\n",
    "\n",
    "with pd.option_context('display.max_rows', None, 'display.max_columns', None):  # more options can be specified also\n",
    "    print(prediction)\n"
   ]
  }
 ],
 "metadata": {
  "kernelspec": {
   "display_name": "Python 3 (ipykernel)",
   "language": "python",
   "name": "python3"
  },
  "language_info": {
   "codemirror_mode": {
    "name": "ipython",
    "version": 3
   },
   "file_extension": ".py",
   "mimetype": "text/x-python",
   "name": "python",
   "nbconvert_exporter": "python",
   "pygments_lexer": "ipython3",
   "version": "3.8.10"
  }
 },
 "nbformat": 4,
 "nbformat_minor": 1
}
