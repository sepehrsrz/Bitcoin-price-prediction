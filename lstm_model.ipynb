{
 "cells": [
  {
   "attachments": {},
   "cell_type": "markdown",
   "metadata": {
    "collapsed": true,
    "pycharm": {
     "is_executing": false,
     "name": "#%% md\n"
    }
   },
   "source": [
    "# Bitcoin price prediction using LSTM\n"
   ]
  },
  {
   "cell_type": "code",
   "execution_count": null,
   "metadata": {
    "pycharm": {
     "name": "#%%\n"
    }
   },
   "outputs": [],
   "source": [
    "import matplotlib.pyplot as plt\n",
    "import numpy as np \n",
    "import pandas as pd \n",
    "from datetime import datetime\n",
    "from keras.models import Sequential\n",
    "from keras.layers import Activation, Dense, Dropout, LSTM\n",
    "from sklearn.metrics import mean_absolute_error\n",
    "from sklearn.model_selection import KFold\n",
    "from sklearn.preprocessing import MinMaxScaler\n",
    "from tensorflow.keras.optimizers import Adam\n",
    "\n",
    "from helper import get_fng_index, split_data\n"
   ]
  },
  {
   "attachments": {},
   "cell_type": "markdown",
   "metadata": {},
   "source": [
    "## Read Data"
   ]
  },
  {
   "cell_type": "code",
   "execution_count": null,
   "metadata": {
    "pycharm": {
     "name": "#%%\n"
    }
   },
   "outputs": [],
   "source": [
    "df = pd.read_csv(\"data/kucoin_btc_usdt1d.csv\")\n",
    "\n",
    "df = df.set_index(pd.DatetimeIndex(df.iloc[:,0].values)).iloc[:,1:]\n",
    "\n",
    "df"
   ]
  },
  {
   "cell_type": "code",
   "execution_count": null,
   "metadata": {},
   "outputs": [],
   "source": [
    "fng_df = get_fng_index()\n",
    "fng_df"
   ]
  },
  {
   "cell_type": "code",
   "execution_count": null,
   "metadata": {},
   "outputs": [],
   "source": [
    "data = pd.merge(df, fng_df, on='timestamp')\n",
    "data"
   ]
  },
  {
   "attachments": {},
   "cell_type": "markdown",
   "metadata": {},
   "source": [
    "## Data Preparation"
   ]
  },
  {
   "attachments": {},
   "cell_type": "markdown",
   "metadata": {
    "pycharm": {
     "name": "#%% md\n"
    }
   },
   "source": [
    "### Normalization"
   ]
  },
  {
   "cell_type": "code",
   "execution_count": null,
   "metadata": {},
   "outputs": [],
   "source": [
    "selected_data = data[['close','volume','high','low','open','value_classification']]\n",
    "num_features = selected_data.shape[1]"
   ]
  },
  {
   "cell_type": "code",
   "execution_count": null,
   "metadata": {},
   "outputs": [],
   "source": [
    "scaler = MinMaxScaler()\n",
    "norm_data = scaler.fit_transform(selected_data.values)\n",
    "print(\"Real: {}\\nNormalized: {}\".format(selected_data.values[0],norm_data[0]))"
   ]
  },
  {
   "attachments": {},
   "cell_type": "markdown",
   "metadata": {},
   "source": [
    "### Data split"
   ]
  },
  {
   "cell_type": "code",
   "execution_count": null,
   "metadata": {},
   "outputs": [],
   "source": [
    "x_train, x_test, y_train, y_test = split_data(norm_data,10,1,80)\n"
   ]
  },
  {
   "attachments": {},
   "cell_type": "markdown",
   "metadata": {
    "pycharm": {
     "name": "#%% md\n"
    }
   },
   "source": [
    "## Build the model"
   ]
  },
  {
   "cell_type": "code",
   "execution_count": null,
   "metadata": {
    "pycharm": {
     "name": "#%% \n"
    }
   },
   "outputs": [],
   "source": [
    "num_units = 100\n",
    "activation_function = 'relu'\n",
    "loss_function = 'mean_absolute_error'\n",
    "batch_size = 32\n",
    "num_epochs = 20\n",
    "\n",
    "model = Sequential()\n",
    "model.add(LSTM(units = num_units,return_sequences=True, input_shape=(None, num_features)))\n",
    "\n",
    "model.add(LSTM(units=num_units))\n",
    "model.add(Dropout(0.2))\n",
    "\n",
    "model.add(Dense(units = 1))\n",
    "model.add(Activation(activation_function))\n",
    "model.compile(optimizer=Adam(learning_rate=0.0001), loss=loss_function)\n",
    "model.summary()"
   ]
  },
  {
   "attachments": {},
   "cell_type": "markdown",
   "metadata": {},
   "source": [
    "## Train the model"
   ]
  },
  {
   "cell_type": "code",
   "execution_count": null,
   "metadata": {},
   "outputs": [],
   "source": [
    "t1 = datetime.now()\n",
    "kf = KFold(n_splits = 10, shuffle = True)\n",
    "loss = []\n",
    "for train_index, test_index in kf.split(x_train):\n",
    "    x_trn, x_tst = x_train[train_index], x_train[test_index]\n",
    "    y_trn, y_tst = y_train[train_index], y_train[test_index]\n",
    "    history = model.fit(\n",
    "        x_trn,\n",
    "        y_trn,\n",
    "        batch_size=32,\n",
    "        epochs=20,\n",
    "        shuffle=False)\n",
    "    \n",
    "    loss.extend(history.history['loss'])\n",
    "t2 = datetime.now()\n",
    "print(t2-t1)"
   ]
  },
  {
   "cell_type": "code",
   "execution_count": null,
   "metadata": {
    "pycharm": {
     "name": "#%%\n"
    }
   },
   "outputs": [],
   "source": [
    "plt.figure()\n",
    "\n",
    "plt.plot(range(len(loss)), loss, 'blue', label='Training loss')\n",
    "\n",
    "plt.title(\"Training Loss\")\n",
    "plt.xlabel(\"Epoch\")\n",
    "plt.legend()\n",
    "\n",
    "plt.show()\n"
   ]
  },
  {
   "cell_type": "code",
   "execution_count": null,
   "metadata": {},
   "outputs": [],
   "source": [
    "original_train = y_train - scaler.min_[0]\n",
    "original_train /= scaler.scale_[0]\n",
    "original_train = pd.DataFrame((original_train))\n",
    "\n",
    "predictions_train = model.predict(x_train) - scaler.min_[0]\n",
    "predictions_train /= scaler.scale_[0]\n",
    "predictions_train = pd.DataFrame((predictions_train))\n",
    "\n",
    "plt.figure()\n",
    "\n",
    "plt.plot(original_train, 'blue', label='Train Data')\n",
    "plt.plot(predictions_train, 'red', label='Prediction')\n",
    "plt.title(\"Bitcoin price\")\n",
    "plt.xlabel(\"Days\")\n",
    "plt.ylabel(\"Price (USD)\")\n",
    "plt.legend()\n",
    "plt.show()\n",
    "print(\"Train error:\")\n",
    "print(mean_absolute_error(y_train, model.predict(x_train)))"
   ]
  },
  {
   "attachments": {},
   "cell_type": "markdown",
   "metadata": {
    "pycharm": {
     "name": "#%% md\n"
    }
   },
   "source": [
    "## Prediction"
   ]
  },
  {
   "cell_type": "code",
   "execution_count": null,
   "metadata": {
    "pycharm": {
     "name": "#%%\n"
    }
   },
   "outputs": [],
   "source": [
    "original_test = y_test - scaler.min_[0]\n",
    "original_test /= scaler.scale_[0]\n",
    "original_test = pd.DataFrame((original_test))\n",
    "\n",
    "predictions_test = model.predict(x_test) - scaler.min_[0]\n",
    "predictions_test /= scaler.scale_[0]\n",
    "predictions_test = pd.DataFrame((predictions_test))\n",
    "\n",
    "plt.figure()\n",
    "\n",
    "plt.plot(original_test, 'blue', label='Test Data')\n",
    "plt.plot(predictions_test, 'red', label='Prediction')\n",
    "plt.title(\"Bitcoin price\")\n",
    "plt.xlabel(\"Days\")\n",
    "plt.ylabel(\"Price (USD)\")\n",
    "plt.legend()\n",
    "plt.show()\n",
    "print(\"Test error:\")\n",
    "print(mean_absolute_error(y_train, model.predict(x_train)))\n",
    "print(mean_absolute_error(y_test[:-1], model.predict(x_test[:-1])))"
   ]
  },
  {
   "cell_type": "code",
   "execution_count": null,
   "metadata": {},
   "outputs": [],
   "source": [
    "prediction = pd.DataFrame({\"actual price\":original_test[0],\"predicted\":predictions_test[0]})\n",
    "\n",
    "with pd.option_context('display.max_rows', None, 'display.max_columns', None):  # more options can be specified also\n",
    "    print(prediction)\n"
   ]
  },
  {
   "cell_type": "code",
   "execution_count": null,
   "metadata": {},
   "outputs": [],
   "source": [
    "model.save('saved_models/lstm')"
   ]
  },
  {
   "cell_type": "code",
   "execution_count": null,
   "metadata": {},
   "outputs": [],
   "source": []
  }
 ],
 "metadata": {
  "kernelspec": {
   "display_name": "Python 3 (ipykernel)",
   "language": "python",
   "name": "python3"
  },
  "language_info": {
   "codemirror_mode": {
    "name": "ipython",
    "version": 3
   },
   "file_extension": ".py",
   "mimetype": "text/x-python",
   "name": "python",
   "nbconvert_exporter": "python",
   "pygments_lexer": "ipython3",
   "version": "3.9.15"
  }
 },
 "nbformat": 4,
 "nbformat_minor": 1
}
